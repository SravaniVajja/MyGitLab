{
 "cells": [
  {
   "cell_type": "code",
   "execution_count": 1,
   "metadata": {},
   "outputs": [
    {
     "name": "stdout",
     "output_type": "stream",
     "text": [
      "Input Dataset:\n",
      "     outlook temperature humidity    wind answer\n",
      "0      sunny         hot     high    weak     no\n",
      "1      sunny         hot     high  strong     no\n",
      "2   overcast         hot     high    weak    yes\n",
      "3       rain        mild     high    weak    yes\n",
      "4       rain        cool   normal    weak    yes\n",
      "5       rain        cool   normal  strong     no\n",
      "6   overcast        cool   normal  strong    yes\n",
      "7      sunny        mild     high    weak     no\n",
      "8      sunny        cool   normal    weak    yes\n",
      "9       rain        mild   normal    weak    yes\n",
      "10     sunny        mild   normal  strong    yes\n",
      "11  overcast        mild     high  strong    yes\n",
      "12  overcast         hot   normal    weak    yes\n",
      "13      rain        mild     high  strong     no\n"
     ]
    }
   ],
   "source": [
    "print(\"Input Dataset:\")\n",
    "import pandas as pd\n",
    "data=pd.read_csv('naive.csv')\n",
    "print(data)"
   ]
  },
  {
   "cell_type": "code",
   "execution_count": 41,
   "metadata": {},
   "outputs": [],
   "source": [
    "import numpy as np\n",
    "import csv\n",
    "def read_data(filename):\n",
    "  with open(filename,'r') as csvfile:\n",
    "    datareader = csv.reader(csvfile)\n",
    "    metadata = next(datareader)\n",
    "    traindata=[]\n",
    "    for row in datareader:\n",
    "     traindata.append(row)\n",
    "  return (metadata, traindata)\n",
    "\n",
    "def splitDataset(dataset, splitRatio):\n",
    " trainSize = int(len(dataset) * splitRatio)\n",
    " \n",
    " trainSet = []\n",
    " testset = list(dataset)\n",
    " i=0\n",
    " while len(trainSet) < trainSize:\n",
    "   trainSet.append(testset.pop(i))\n",
    " return [trainSet, testset]\n"
   ]
  },
  {
   "cell_type": "code",
   "execution_count": 42,
   "metadata": {},
   "outputs": [
    {
     "name": "stdout",
     "output_type": "stream",
     "text": [
      "[['0', 'sunny', 'hot', 'high', 'weak', 'no'], ['1', 'sunny', 'hot', 'high', 'strong', 'no'], ['2', 'overcast', 'hot', 'high', 'weak', 'yes'], ['3', 'rain', 'mild', 'high', 'weak', 'yes'], ['4', 'rain', 'cool', 'normal', 'weak', 'yes'], ['5', 'rain', 'cool', 'normal', 'strong', 'no'], ['6', 'overcast', 'cool', 'normal', 'strong', 'yes'], ['7', 'sunny', 'mild', 'high', 'weak', 'no']]\n",
      "[['8', 'sunny', 'cool', 'normal', 'weak', 'yes'], ['9', 'rain', 'mild', 'normal', 'weak', 'yes'], ['10', 'sunny', 'mild', 'normal', 'strong', 'yes'], ['11', 'overcast', 'mild', 'high', 'strong', 'yes'], ['12', 'overcast', 'hot', 'normal', 'weak', 'yes'], ['13', 'rain', 'mild', 'high', 'strong', 'no']]\n",
      "[['0' 'sunny' 'hot' 'high' 'weak' 'no']\n",
      " ['1' 'sunny' 'hot' 'high' 'strong' 'no']\n",
      " ['2' 'overcast' 'hot' 'high' 'weak' 'yes']\n",
      " ['3' 'rain' 'mild' 'high' 'weak' 'yes']\n",
      " ['4' 'rain' 'cool' 'normal' 'weak' 'yes']\n",
      " ['5' 'rain' 'cool' 'normal' 'strong' 'no']\n",
      " ['6' 'overcast' 'cool' 'normal' 'strong' 'yes']\n",
      " ['7' 'sunny' 'mild' 'high' 'weak' 'no']]\n",
      "[['8' 'sunny' 'cool' 'normal' 'weak' 'yes']\n",
      " ['9' 'rain' 'mild' 'normal' 'weak' 'yes']\n",
      " ['10' 'sunny' 'mild' 'normal' 'strong' 'yes']\n",
      " ['11' 'overcast' 'mild' 'high' 'strong' 'yes']\n",
      " ['12' 'overcast' 'hot' 'normal' 'weak' 'yes']\n",
      " ['13' 'rain' 'mild' 'high' 'strong' 'no']]\n",
      "(8, 6)\n"
     ]
    }
   ],
   "source": [
    "metadata,traindata=read_data(\"naive.csv\")\n",
    "splitRatio=0.6\n",
    "traindata,testdata=splitDataset(traindata,splitRatio)\n",
    "print(traindata)\n",
    "print(testdata)\n",
    "training=np.array(traindata)\n",
    "testing=np.array(testdata)\n",
    "print(training)\n",
    "print(testing)\n",
    "print(training.shape)"
   ]
  },
  {
   "cell_type": "code",
   "execution_count": 43,
   "metadata": {},
   "outputs": [],
   "source": [
    "def classify(data,test):\n",
    " total_size = data.shape[0]\n",
    " print(\"training data size=\",total_size)\n",
    " print(\"test data size=\",test.shape[0])\n",
    " countYes = 0\n",
    " countNo = 0\n",
    " probYes = 0\n",
    " probNo = 0\n",
    " print(\"target count probability\")\n",
    " \n",
    " for x in range(data.shape[0]):\n",
    "   if data[x,data.shape[1]-1] == 'yes':\n",
    "      countYes += 1\n",
    "   if data[x,data.shape[1]-1] == 'no':\n",
    "      countNo +=1\n",
    " \n",
    " probYes=countYes/total_size\n",
    " probNo= countNo / total_size\n",
    " print('Yes',\"\\t\",countYes,\"\\t\",probYes)\n",
    " print('No',\"\\t\",countNo,\"\\t\",probNo)\n",
    " prob0 =np.zeros((test.shape[1]-1))\n",
    " prob1 =np.zeros((test.shape[1]-1))\n",
    " accuracy=0\n",
    " print(\"instance prediction target\")\n",
    " \n",
    " for t in range(test.shape[0]):\n",
    "   for k in range (test.shape[1]-1):\n",
    "     count1=count0=0\n",
    "     for j in range (data.shape[0]):\n",
    " #how many times appeared with no\n",
    "       if test[t,k] == data[j,k] and data[j,data.shape[1]-1]=='no':\n",
    "            count0 +=1\n",
    "#how many times appeared with yes\n",
    "       if test[t,k]==data[j,k] and data[j,data.shape[1]-1]=='yes':\n",
    "        count1 +=1\n",
    "     prob0[k]=count0/countNo\n",
    "     prob1[k]=count1/countYes\n",
    "    \n",
    " \n",
    "     probno=probNo\n",
    "     probyes=probYes\n",
    "   for i in range(1,test.shape[1]-1):\n",
    "      probno=probno*prob0[i]\n",
    "      probyes=probyes*prob1[i]\n",
    "   if probno>probyes:\n",
    "          predict='no'\n",
    "   else:\n",
    "          predict='yes'\n",
    "   print(t+1,\"\\t\",predict,\"\\t \",test[t,test.shape[1]-1])\n",
    "   if predict == test[t,test.shape[1]-1]:\n",
    "      accuracy+=1\n",
    " final_accuracy=(accuracy/test.shape[0])*100\n",
    " print(\"accuracy\",final_accuracy,\"%\")\n"
   ]
  },
  {
   "cell_type": "code",
   "execution_count": 44,
   "metadata": {},
   "outputs": [
    {
     "name": "stdout",
     "output_type": "stream",
     "text": [
      "training data size= 8\n",
      "test data size= 6\n",
      "target count probability\n",
      "Yes \t 4 \t 0.5\n",
      "No \t 4 \t 0.5\n",
      "instance prediction target\n",
      "1 \t no \t  yes\n",
      "2 \t yes \t  yes\n",
      "3 \t no \t  yes\n",
      "4 \t yes \t  yes\n",
      "5 \t yes \t  yes\n",
      "6 \t no \t  no\n",
      "accuracy 66.66666666666666 %\n"
     ]
    }
   ],
   "source": [
    "classify(training,testing)"
   ]
  },
  {
   "cell_type": "code",
   "execution_count": null,
   "metadata": {},
   "outputs": [],
   "source": []
  }
 ],
 "metadata": {
  "kernelspec": {
   "display_name": "Python 3",
   "language": "python",
   "name": "python3"
  },
  "language_info": {
   "codemirror_mode": {
    "name": "ipython",
    "version": 3
   },
   "file_extension": ".py",
   "mimetype": "text/x-python",
   "name": "python",
   "nbconvert_exporter": "python",
   "pygments_lexer": "ipython3",
   "version": "3.7.6"
  }
 },
 "nbformat": 4,
 "nbformat_minor": 4
}
